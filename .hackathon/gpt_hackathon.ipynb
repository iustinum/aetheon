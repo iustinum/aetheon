{
 "cells": [
  {
   "cell_type": "code",
   "execution_count": 18,
   "metadata": {},
   "outputs": [
    {
     "name": "stdout",
     "output_type": "stream",
     "text": [
      "True\n"
     ]
    },
    {
     "name": "stderr",
     "output_type": "stream",
     "text": [
      "/opt/homebrew/Cellar/python@3.11/3.11.0/Frameworks/Python.framework/Versions/3.11/lib/python3.11/ast.py:50: RuntimeWarning: coroutine 'GithubClient.get_branch' was never awaited\n",
      "  return compile(source, filename, mode, flags,\n",
      "RuntimeWarning: Enable tracemalloc to get the object allocation traceback\n"
     ]
    },
    {
     "ename": "KeyError",
     "evalue": "'commit'",
     "output_type": "error",
     "traceback": [
      "\u001b[0;31m---------------------------------------------------------------------------\u001b[0m",
      "\u001b[0;31mKeyError\u001b[0m                                  Traceback (most recent call last)",
      "Cell \u001b[0;32mIn[18], line 26\u001b[0m\n\u001b[1;32m     16\u001b[0m github_client \u001b[39m=\u001b[39m GithubClient(os\u001b[39m.\u001b[39mgetenv(\u001b[39m\"\u001b[39m\u001b[39mGITHUB_TOKEN\u001b[39m\u001b[39m\"\u001b[39m))\n\u001b[1;32m     17\u001b[0m loader \u001b[39m=\u001b[39m GithubRepositoryReader(\n\u001b[1;32m     18\u001b[0m     github_client,\n\u001b[1;32m     19\u001b[0m     owner \u001b[39m=\u001b[39m                  \u001b[39m\"\u001b[39m\u001b[39mJingzhi-Su\u001b[39m\u001b[39m\"\u001b[39m,\n\u001b[0;32m   (...)\u001b[0m\n\u001b[1;32m     23\u001b[0m     concurrent_requests \u001b[39m=\u001b[39m    \u001b[39m10\u001b[39m,\n\u001b[1;32m     24\u001b[0m )\n\u001b[0;32m---> 26\u001b[0m docs \u001b[39m=\u001b[39m loader\u001b[39m.\u001b[39;49mload_data(branch\u001b[39m=\u001b[39;49m\u001b[39m\"\u001b[39;49m\u001b[39mmain\u001b[39;49m\u001b[39m\"\u001b[39;49m)\n\u001b[1;32m     28\u001b[0m \u001b[39mwith\u001b[39;00m \u001b[39mopen\u001b[39m(\u001b[39m\"\u001b[39m\u001b[39mdocs.pkl\u001b[39m\u001b[39m\"\u001b[39m, \u001b[39m\"\u001b[39m\u001b[39mwb\u001b[39m\u001b[39m\"\u001b[39m) \u001b[39mas\u001b[39;00m f:\n\u001b[1;32m     29\u001b[0m     pickle\u001b[39m.\u001b[39mdump(docs, f)\n",
      "File \u001b[0;32m/opt/homebrew/lib/python3.11/site-packages/llama_hub/github_repo/base.py:301\u001b[0m, in \u001b[0;36mGithubRepositoryReader.load_data\u001b[0;34m(self, commit_sha, branch)\u001b[0m\n\u001b[1;32m    298\u001b[0m     \u001b[39mreturn\u001b[39;00m \u001b[39mself\u001b[39m\u001b[39m.\u001b[39m_load_data_from_commit(commit_sha)\n\u001b[1;32m    300\u001b[0m \u001b[39mif\u001b[39;00m branch \u001b[39mis\u001b[39;00m \u001b[39mnot\u001b[39;00m \u001b[39mNone\u001b[39;00m:\n\u001b[0;32m--> 301\u001b[0m     \u001b[39mreturn\u001b[39;00m \u001b[39mself\u001b[39;49m\u001b[39m.\u001b[39;49m_load_data_from_branch(branch)\n\u001b[1;32m    303\u001b[0m \u001b[39mraise\u001b[39;00m \u001b[39mValueError\u001b[39;00m(\u001b[39m\"\u001b[39m\u001b[39mYou must specify one of commit or branch.\u001b[39m\u001b[39m\"\u001b[39m)\n",
      "File \u001b[0;32m/opt/homebrew/lib/python3.11/site-packages/llama_hub/github_repo/base.py:263\u001b[0m, in \u001b[0;36mGithubRepositoryReader._load_data_from_branch\u001b[0;34m(self, branch)\u001b[0m\n\u001b[1;32m    253\u001b[0m \u001b[39mdef\u001b[39;00m \u001b[39m_load_data_from_branch\u001b[39m(\u001b[39mself\u001b[39m, branch: \u001b[39mstr\u001b[39m) \u001b[39m-\u001b[39m\u001b[39m>\u001b[39m List[Document]:\n\u001b[1;32m    254\u001b[0m \u001b[39m    \u001b[39m\u001b[39m\"\"\"\u001b[39;00m\n\u001b[1;32m    255\u001b[0m \u001b[39m    Load data from a branch.\u001b[39;00m\n\u001b[1;32m    256\u001b[0m \n\u001b[0;32m   (...)\u001b[0m\n\u001b[1;32m    261\u001b[0m \u001b[39m    :return: list of documents\u001b[39;00m\n\u001b[1;32m    262\u001b[0m \u001b[39m    \"\"\"\u001b[39;00m\n\u001b[0;32m--> 263\u001b[0m     branch_data: GitBranchResponseModel \u001b[39m=\u001b[39m \u001b[39mself\u001b[39;49m\u001b[39m.\u001b[39;49m_loop\u001b[39m.\u001b[39;49mrun_until_complete(\n\u001b[1;32m    264\u001b[0m         \u001b[39mself\u001b[39;49m\u001b[39m.\u001b[39;49m_github_client\u001b[39m.\u001b[39;49mget_branch(\u001b[39mself\u001b[39;49m\u001b[39m.\u001b[39;49m_owner, \u001b[39mself\u001b[39;49m\u001b[39m.\u001b[39;49m_repo, branch)\n\u001b[1;32m    265\u001b[0m     )\n\u001b[1;32m    267\u001b[0m     tree_sha \u001b[39m=\u001b[39m branch_data\u001b[39m.\u001b[39mcommit\u001b[39m.\u001b[39mcommit\u001b[39m.\u001b[39mtree\u001b[39m.\u001b[39msha\n\u001b[1;32m    268\u001b[0m     blobs_and_paths \u001b[39m=\u001b[39m \u001b[39mself\u001b[39m\u001b[39m.\u001b[39m_loop\u001b[39m.\u001b[39mrun_until_complete(\u001b[39mself\u001b[39m\u001b[39m.\u001b[39m_recurse_tree(tree_sha))\n",
      "File \u001b[0;32m~/Library/Python/3.11/lib/python/site-packages/nest_asyncio.py:90\u001b[0m, in \u001b[0;36m_patch_loop.<locals>.run_until_complete\u001b[0;34m(self, future)\u001b[0m\n\u001b[1;32m     87\u001b[0m \u001b[39mif\u001b[39;00m \u001b[39mnot\u001b[39;00m f\u001b[39m.\u001b[39mdone():\n\u001b[1;32m     88\u001b[0m     \u001b[39mraise\u001b[39;00m \u001b[39mRuntimeError\u001b[39;00m(\n\u001b[1;32m     89\u001b[0m         \u001b[39m'\u001b[39m\u001b[39mEvent loop stopped before Future completed.\u001b[39m\u001b[39m'\u001b[39m)\n\u001b[0;32m---> 90\u001b[0m \u001b[39mreturn\u001b[39;00m f\u001b[39m.\u001b[39;49mresult()\n",
      "File \u001b[0;32m/opt/homebrew/Cellar/python@3.11/3.11.0/Frameworks/Python.framework/Versions/3.11/lib/python3.11/asyncio/futures.py:203\u001b[0m, in \u001b[0;36mFuture.result\u001b[0;34m(self)\u001b[0m\n\u001b[1;32m    201\u001b[0m \u001b[39mself\u001b[39m\u001b[39m.\u001b[39m__log_traceback \u001b[39m=\u001b[39m \u001b[39mFalse\u001b[39;00m\n\u001b[1;32m    202\u001b[0m \u001b[39mif\u001b[39;00m \u001b[39mself\u001b[39m\u001b[39m.\u001b[39m_exception \u001b[39mis\u001b[39;00m \u001b[39mnot\u001b[39;00m \u001b[39mNone\u001b[39;00m:\n\u001b[0;32m--> 203\u001b[0m     \u001b[39mraise\u001b[39;00m \u001b[39mself\u001b[39m\u001b[39m.\u001b[39m_exception\u001b[39m.\u001b[39mwith_traceback(\u001b[39mself\u001b[39m\u001b[39m.\u001b[39m_exception_tb)\n\u001b[1;32m    204\u001b[0m \u001b[39mreturn\u001b[39;00m \u001b[39mself\u001b[39m\u001b[39m.\u001b[39m_result\n",
      "File \u001b[0;32m/opt/homebrew/Cellar/python@3.11/3.11.0/Frameworks/Python.framework/Versions/3.11/lib/python3.11/asyncio/tasks.py:267\u001b[0m, in \u001b[0;36mTask.__step\u001b[0;34m(***failed resolving arguments***)\u001b[0m\n\u001b[1;32m    263\u001b[0m \u001b[39mtry\u001b[39;00m:\n\u001b[1;32m    264\u001b[0m     \u001b[39mif\u001b[39;00m exc \u001b[39mis\u001b[39;00m \u001b[39mNone\u001b[39;00m:\n\u001b[1;32m    265\u001b[0m         \u001b[39m# We use the `send` method directly, because coroutines\u001b[39;00m\n\u001b[1;32m    266\u001b[0m         \u001b[39m# don't have `__iter__` and `__next__` methods.\u001b[39;00m\n\u001b[0;32m--> 267\u001b[0m         result \u001b[39m=\u001b[39m coro\u001b[39m.\u001b[39msend(\u001b[39mNone\u001b[39;00m)\n\u001b[1;32m    268\u001b[0m     \u001b[39melse\u001b[39;00m:\n\u001b[1;32m    269\u001b[0m         result \u001b[39m=\u001b[39m coro\u001b[39m.\u001b[39mthrow(exc)\n",
      "File \u001b[0;32m/opt/homebrew/lib/python3.11/site-packages/llama_hub/github_repo/github_client.py:340\u001b[0m, in \u001b[0;36mGithubClient.get_branch\u001b[0;34m(self, owner, repo, branch)\u001b[0m\n\u001b[1;32m    323\u001b[0m \u001b[39masync\u001b[39;00m \u001b[39mdef\u001b[39;00m \u001b[39mget_branch\u001b[39m(\n\u001b[1;32m    324\u001b[0m     \u001b[39mself\u001b[39m, owner: \u001b[39mstr\u001b[39m, repo: \u001b[39mstr\u001b[39m, branch: \u001b[39mstr\u001b[39m\n\u001b[1;32m    325\u001b[0m ) \u001b[39m-\u001b[39m\u001b[39m>\u001b[39m GitBranchResponseModel:\n\u001b[1;32m    326\u001b[0m \u001b[39m    \u001b[39m\u001b[39m\"\"\"\u001b[39;00m\n\u001b[1;32m    327\u001b[0m \u001b[39m    Get information about a branch. (Github API endpoint: getBranch).\u001b[39;00m\n\u001b[1;32m    328\u001b[0m \n\u001b[0;32m   (...)\u001b[0m\n\u001b[1;32m    338\u001b[0m \u001b[39m        >>> branch_info = client.get_branch(\"owner\", \"repo\", \"branch\")\u001b[39;00m\n\u001b[1;32m    339\u001b[0m \u001b[39m    \"\"\"\u001b[39;00m\n\u001b[0;32m--> 340\u001b[0m     \u001b[39mreturn\u001b[39;00m GitBranchResponseModel\u001b[39m.\u001b[39;49mfrom_json(\n\u001b[1;32m    341\u001b[0m         (\n\u001b[1;32m    342\u001b[0m             \u001b[39mawait\u001b[39;49;00m \u001b[39mself\u001b[39;49m\u001b[39m.\u001b[39;49mrequest(\n\u001b[1;32m    343\u001b[0m                 \u001b[39m\"\u001b[39;49m\u001b[39mgetBranch\u001b[39;49m\u001b[39m\"\u001b[39;49m, \u001b[39m\"\u001b[39;49m\u001b[39mGET\u001b[39;49m\u001b[39m\"\u001b[39;49m, owner\u001b[39m=\u001b[39;49mowner, repo\u001b[39m=\u001b[39;49mrepo, branch\u001b[39m=\u001b[39;49mbranch\n\u001b[1;32m    344\u001b[0m             )\n\u001b[1;32m    345\u001b[0m         )\u001b[39m.\u001b[39;49mtext\n\u001b[1;32m    346\u001b[0m     )\n",
      "File \u001b[0;32m/opt/homebrew/lib/python3.11/site-packages/dataclasses_json/api.py:63\u001b[0m, in \u001b[0;36mDataClassJsonMixin.from_json\u001b[0;34m(cls, s, parse_float, parse_int, parse_constant, infer_missing, **kw)\u001b[0m\n\u001b[1;32m     49\u001b[0m \u001b[39m@classmethod\u001b[39m\n\u001b[1;32m     50\u001b[0m \u001b[39mdef\u001b[39;00m \u001b[39mfrom_json\u001b[39m(\u001b[39mcls\u001b[39m: Type[A],\n\u001b[1;32m     51\u001b[0m               s: JsonData,\n\u001b[0;32m   (...)\u001b[0m\n\u001b[1;32m     56\u001b[0m               infer_missing\u001b[39m=\u001b[39m\u001b[39mFalse\u001b[39;00m,\n\u001b[1;32m     57\u001b[0m               \u001b[39m*\u001b[39m\u001b[39m*\u001b[39mkw) \u001b[39m-\u001b[39m\u001b[39m>\u001b[39m A:\n\u001b[1;32m     58\u001b[0m     kvs \u001b[39m=\u001b[39m json\u001b[39m.\u001b[39mloads(s,\n\u001b[1;32m     59\u001b[0m                      parse_float\u001b[39m=\u001b[39mparse_float,\n\u001b[1;32m     60\u001b[0m                      parse_int\u001b[39m=\u001b[39mparse_int,\n\u001b[1;32m     61\u001b[0m                      parse_constant\u001b[39m=\u001b[39mparse_constant,\n\u001b[1;32m     62\u001b[0m                      \u001b[39m*\u001b[39m\u001b[39m*\u001b[39mkw)\n\u001b[0;32m---> 63\u001b[0m     \u001b[39mreturn\u001b[39;00m \u001b[39mcls\u001b[39;49m\u001b[39m.\u001b[39;49mfrom_dict(kvs, infer_missing\u001b[39m=\u001b[39;49minfer_missing)\n",
      "File \u001b[0;32m/opt/homebrew/lib/python3.11/site-packages/dataclasses_json/api.py:70\u001b[0m, in \u001b[0;36mDataClassJsonMixin.from_dict\u001b[0;34m(cls, kvs, infer_missing)\u001b[0m\n\u001b[1;32m     65\u001b[0m \u001b[39m@classmethod\u001b[39m\n\u001b[1;32m     66\u001b[0m \u001b[39mdef\u001b[39;00m \u001b[39mfrom_dict\u001b[39m(\u001b[39mcls\u001b[39m: Type[A],\n\u001b[1;32m     67\u001b[0m               kvs: Json,\n\u001b[1;32m     68\u001b[0m               \u001b[39m*\u001b[39m,\n\u001b[1;32m     69\u001b[0m               infer_missing\u001b[39m=\u001b[39m\u001b[39mFalse\u001b[39;00m) \u001b[39m-\u001b[39m\u001b[39m>\u001b[39m A:\n\u001b[0;32m---> 70\u001b[0m     \u001b[39mreturn\u001b[39;00m _decode_dataclass(\u001b[39mcls\u001b[39;49m, kvs, infer_missing)\n",
      "File \u001b[0;32m/opt/homebrew/lib/python3.11/site-packages/dataclasses_json/core.py:168\u001b[0m, in \u001b[0;36m_decode_dataclass\u001b[0;34m(cls, kvs, infer_missing)\u001b[0m\n\u001b[1;32m    165\u001b[0m \u001b[39mif\u001b[39;00m \u001b[39mnot\u001b[39;00m field\u001b[39m.\u001b[39minit:\n\u001b[1;32m    166\u001b[0m     \u001b[39mcontinue\u001b[39;00m\n\u001b[0;32m--> 168\u001b[0m field_value \u001b[39m=\u001b[39m kvs[field\u001b[39m.\u001b[39;49mname]\n\u001b[1;32m    169\u001b[0m field_type \u001b[39m=\u001b[39m types[field\u001b[39m.\u001b[39mname]\n\u001b[1;32m    170\u001b[0m \u001b[39mif\u001b[39;00m field_value \u001b[39mis\u001b[39;00m \u001b[39mNone\u001b[39;00m \u001b[39mand\u001b[39;00m \u001b[39mnot\u001b[39;00m _is_optional(field_type):\n",
      "\u001b[0;31mKeyError\u001b[0m: 'commit'"
     ]
    }
   ],
   "source": [
    "import pickle\n",
    "import os\n",
    "\n",
    "from llama_index import download_loader, GPTVectorStoreIndex\n",
    "download_loader(\"GithubRepositoryReader\")\n",
    "\n",
    "from llama_hub.github_repo import GithubClient, GithubRepositoryReader\n",
    "\n",
    "print(os.path.exists(\"docs.pkl\"))\n",
    "docs = None\n",
    "if not os.path.exists(\"docs.pkl\"):\n",
    "    with open(\"docs.pkl\", \"rb\") as f:\n",
    "        docs = pickle.load(f)\n",
    "\n",
    "if docs is None:\n",
    "    github_client = GithubClient(os.getenv(\"GITHUB_TOKEN\"))\n",
    "    loader = GithubRepositoryReader(\n",
    "        github_client,\n",
    "        owner =                  \"Jingzhi-Su\",\n",
    "        repo =                   \"PokerBot\",\n",
    "        filter_file_extensions = ([\".py\"], GithubRepositoryReader.FilterType.INCLUDE),\n",
    "        verbose =                False,\n",
    "        concurrent_requests =    10,\n",
    "    )\n",
    "\n",
    "    docs = loader.load_data(branch=\"main\")\n",
    "\n",
    "    with open(\"docs.pkl\", \"wb\") as f:\n",
    "        pickle.dump(docs, f)\n",
    "\n",
    "index = GPTVectorStoreIndex.from_documents(docs)\n",
    "\n",
    "query_engine = index.as_query_engine()\n",
    "response = query_engine.query(\"What is this repository doing?\")\n",
    "print(response)"
   ]
  },
  {
   "cell_type": "code",
   "execution_count": 5,
   "metadata": {},
   "outputs": [],
   "source": [
    "import openai\n",
    "from dotenv import load_dotenv\n",
    "import os\n",
    "\n",
    "import nest_asyncio\n",
    "nest_asyncio.apply()"
   ]
  },
  {
   "cell_type": "code",
   "execution_count": null,
   "metadata": {},
   "outputs": [],
   "source": [
    "load_dotenv(\".env\")\n",
    "openai.api_key=os.environ[\"OPENAI_API_KEY\"]"
   ]
  },
  {
   "cell_type": "code",
   "execution_count": null,
   "metadata": {},
   "outputs": [],
   "source": [
    "res['choices'][0]['message']['content']"
   ]
  },
  {
   "cell_type": "code",
   "execution_count": null,
   "metadata": {},
   "outputs": [],
   "source": [
    "%pip install llama-index"
   ]
  }
 ],
 "metadata": {
  "kernelspec": {
   "display_name": "Python 3",
   "language": "python",
   "name": "python3"
  },
  "language_info": {
   "codemirror_mode": {
    "name": "ipython",
    "version": 3
   },
   "file_extension": ".py",
   "mimetype": "text/x-python",
   "name": "python",
   "nbconvert_exporter": "python",
   "pygments_lexer": "ipython3",
   "version": "3.11.0"
  },
  "orig_nbformat": 4
 },
 "nbformat": 4,
 "nbformat_minor": 2
}
