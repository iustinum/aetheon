{
 "cells": [
  {
   "cell_type": "code",
   "execution_count": 11,
   "metadata": {},
   "outputs": [
    {
     "name": "stdout",
     "output_type": "stream",
     "text": [
      "True\n",
      "\n",
      "This repository is creating a Discord bot that allows users to play a game of poker. The bot has commands that allow users to join the game, give each player their hand, start the game, ask players to make their moves, declare a winner, add the pot to the winner, reset the game, and check how many players are in the game. The bot also has a command that allows it to send a direct message to a user.\n"
     ]
    }
   ],
   "source": [
    "import pickle\n",
    "import os\n",
    "\n",
    "from llama_index import download_loader, GPTVectorStoreIndex\n",
    "download_loader(\"GithubRepositoryReader\")\n",
    "\n",
    "from llama_hub.github_repo import GithubClient, GithubRepositoryReader\n",
    "\n",
    "print(os.path.exists(\"docs.pkl\"))\n",
    "docs = None\n",
    "if !os.path.exists(\"docs.pkl\"):\n",
    "    with open(\"docs.pkl\", \"rb\") as f:\n",
    "        docs = pickle.load(f)\n",
    "\n",
    "if docs is None:\n",
    "    github_client = GithubClient(os.getenv(\"GITHUB_TOKEN\"))\n",
    "    loader = GithubRepositoryReader(\n",
    "        github_client,\n",
    "        owner =                  \"Jingzhi-Su\",\n",
    "        repo =                   \"PokerBot\",\n",
    "        filter_file_extensions = ([\".py\"], GithubRepositoryReader.FilterType.INCLUDE),\n",
    "        verbose =                False,\n",
    "        concurrent_requests =    10,\n",
    "    )\n",
    "\n",
    "    docs = loader.load_data(branch=\"main\")\n",
    "\n",
    "    with open(\"docs.pkl\", \"wb\") as f:\n",
    "        pickle.dump(docs, f)\n",
    "\n",
    "index = GPTVectorStoreIndex.from_documents(docs)\n",
    "\n",
    "query_engine = index.as_query_engine()\n",
    "response = query_engine.query(\"What is this repository doing?\")\n",
    "print(response)"
   ]
  },
  {
   "cell_type": "code",
   "execution_count": null,
   "metadata": {},
   "outputs": [],
   "source": []
  },
  {
   "cell_type": "code",
   "execution_count": null,
   "metadata": {},
   "outputs": [],
   "source": []
  },
  {
   "cell_type": "code",
   "execution_count": 4,
   "metadata": {},
   "outputs": [
    {
     "name": "stdout",
     "output_type": "stream",
     "text": [
      "Requirement already satisfied: nest-asyncio in /Users/justinwu/Library/Python/3.11/lib/python/site-packages (1.5.6)\n",
      "\n",
      "\u001b[1m[\u001b[0m\u001b[34;49mnotice\u001b[0m\u001b[1;39;49m]\u001b[0m\u001b[39;49m A new release of pip available: \u001b[0m\u001b[31;49m22.3\u001b[0m\u001b[39;49m -> \u001b[0m\u001b[32;49m23.1.2\u001b[0m\n",
      "\u001b[1m[\u001b[0m\u001b[34;49mnotice\u001b[0m\u001b[1;39;49m]\u001b[0m\u001b[39;49m To update, run: \u001b[0m\u001b[32;49mpython3.11 -m pip install --upgrade pip\u001b[0m\n",
      "Note: you may need to restart the kernel to use updated packages.\n"
     ]
    }
   ],
   "source": [
    "%pip install nest-asyncio"
   ]
  },
  {
   "cell_type": "code",
   "execution_count": 5,
   "metadata": {},
   "outputs": [],
   "source": [
    "import openai\n",
    "from dotenv import load_dotenv\n",
    "import os\n",
    "\n",
    "import nest_asyncio\n",
    "nest_asyncio.apply()"
   ]
  },
  {
   "cell_type": "code",
   "execution_count": null,
   "metadata": {},
   "outputs": [],
   "source": [
    "load_dotenv(\".env\")\n",
    "openai.api_key=os.environ[\"OPENAI_API_KEY\"]"
   ]
  },
  {
   "cell_type": "code",
   "execution_count": null,
   "metadata": {},
   "outputs": [],
   "source": [
    "res = openai.ChatCompletion.create(\n",
    "    model = \"gpt-4\",\n",
    "    messages = [{\"role\":\"user\", \"content\":\"what does 4PF mean\"}]\n",
    ")"
   ]
  },
  {
   "cell_type": "code",
   "execution_count": null,
   "metadata": {},
   "outputs": [],
   "source": [
    "print(res)"
   ]
  },
  {
   "cell_type": "code",
   "execution_count": null,
   "metadata": {},
   "outputs": [],
   "source": [
    "res['choices'][0]['message']['content']"
   ]
  },
  {
   "cell_type": "code",
   "execution_count": null,
   "metadata": {},
   "outputs": [],
   "source": [
    "%pip install llama-index"
   ]
  },
  {
   "cell_type": "code",
   "execution_count": 8,
   "metadata": {},
   "outputs": [
    {
     "name": "stdout",
     "output_type": "stream",
     "text": [
      "{'file_path': 'deck.py', 'file_name': 'deck.py'}\n",
      "{'file_path': 'game.py', 'file_name': 'game.py'}\n",
      "{'file_path': 'main.py', 'file_name': 'main.py'}\n"
     ]
    }
   ],
   "source": [
    "from llama_index import download_loader\n",
    "download_loader(\"GithubRepositoryReader\")\n",
    "\n",
    "from llama_hub.github_repo import GithubRepositoryReader, GithubClient\n",
    "\n",
    "github_client = GithubClient(os.getenv(\"GITHUB_TOKEN\"))\n",
    "loader = GithubRepositoryReader(\n",
    "    github_client,\n",
    "    owner =                  \"Jingzhi-Su\",\n",
    "    repo =                   \"PokerBot\",\n",
    {
    "    verbose =                False,\n",
     "evalue": "No module named 'llama_hub'",
     "output_type": "error",
     "traceback": [
    "docs = loader.load_data(branch=\"main\")\n",
    "# alternatively, load from a specific commit:\n",
    "\n",
    "# docs = loader.load_data(commit_sha=\"a6c89159bf8e7086bea2f4305cff3f0a4102e370\")\n",
    "\n",
    "for doc in docs:\n",
    "    print(doc.extra_info)#"
      "File \u001b[0;32m/opt/homebrew/lib/python3.11/site-packages/llama_index/readers/llamahub_modules/github_repo/base.py:38\u001b[0m\n\u001b[1;32m     32\u001b[0m     \u001b[39mfrom\u001b[39;00m \u001b[39mllama_hub\u001b[39;00m\u001b[39m.\u001b[39;00m\u001b[39mgithub_repo\u001b[39;00m\u001b[39m.\u001b[39;00m\u001b[39mutils\u001b[39;00m \u001b[39mimport\u001b[39;00m (\n\u001b[1;32m     33\u001b[0m         BufferedGitBlobDataIterator,\n\u001b[1;32m     34\u001b[0m         print_if_verbose,\n\u001b[1;32m     35\u001b[0m         get_file_extension,\n\u001b[1;32m     36\u001b[0m     )\n\u001b[1;32m     37\u001b[0m \u001b[39melse\u001b[39;00m:\n\u001b[0;32m---> 38\u001b[0m     \u001b[39mfrom\u001b[39;00m \u001b[39mllama_hub\u001b[39;00m\u001b[39m.\u001b[39;00m\u001b[39mgithub_repo\u001b[39;00m\u001b[39m.\u001b[39;00m\u001b[39mgithub_client\u001b[39;00m \u001b[39mimport\u001b[39;00m (\n\u001b[1;32m     39\u001b[0m         BaseGithubClient,\n\u001b[1;32m     40\u001b[0m         GithubClient,\n\u001b[1;32m     41\u001b[0m         GitBranchResponseModel,\n\u001b[1;32m     42\u001b[0m         GitCommitResponseModel,\n\u001b[1;32m     43\u001b[0m         GitTreeResponseModel,\n\u001b[1;32m     44\u001b[0m     )\n\u001b[1;32m     45\u001b[0m     \u001b[39mfrom\u001b[39;00m \u001b[39mllama_hub\u001b[39;00m\u001b[39m.\u001b[39;00m\u001b[39mgithub_repo\u001b[39;00m\u001b[39m.\u001b[39;00m\u001b[39mutils\u001b[39;00m \u001b[39mimport\u001b[39;00m (\n\u001b[1;32m     46\u001b[0m         BufferedGitBlobDataIterator,\n\u001b[1;32m     47\u001b[0m         print_if_verbose,\n\u001b[1;32m     48\u001b[0m         get_file_extension,\n\u001b[1;32m     49\u001b[0m     )\n\u001b[1;32m     51\u001b[0m logger \u001b[39m=\u001b[39m logging\u001b[39m.\u001b[39mgetLogger(\u001b[39m__name__\u001b[39m)\n",
      "\u001b[1m[\u001b[0m\u001b[34;49mnotice\u001b[0m\u001b[1;39;49m]\u001b[0m\u001b[39;49m A new release of pip available: \u001b[0m\u001b[31;49m22.3\u001b[0m\u001b[39;49m -> \u001b[0m\u001b[32;49m23.1.2\u001b[0m\n",
      "\u001b[1m[\u001b[0m\u001b[34;49mnotice\u001b[0m\u001b[1;39;49m]\u001b[0m\u001b[39;49m To update, run: \u001b[0m\u001b[32;49mpython3.11 -m pip install --upgrade pip\u001b[0m\n",
      "Note: you may need to restart the kernel to use updated packages.\n"
     ]
    }
   ],
